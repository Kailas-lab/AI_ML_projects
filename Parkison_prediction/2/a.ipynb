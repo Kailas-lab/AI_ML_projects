{
 "cells": [
  {
   "cell_type": "markdown",
   "id": "13a2e865",
   "metadata": {},
   "source": []
  },
  {
   "cell_type": "code",
   "execution_count": 2,
   "id": "5bbb2f22",
   "metadata": {},
   "outputs": [],
   "source": [
    "import pandas as pd\n",
    "import numpy as np\n",
    "from sklearn.model_selection import train_test_split\n",
    "from sklearn.preprocessing import StandardScaler\n",
    "from sklearn.svm import SVC\n",
    "from sklearn.metrics import accuracy_score, confusion_matrix, classification_report"
   ]
  },
  {
   "cell_type": "code",
   "execution_count": 3,
   "id": "66ae3780",
   "metadata": {},
   "outputs": [
    {
     "data": {
      "text/html": [
       "<div>\n",
       "<style scoped>\n",
       "    .dataframe tbody tr th:only-of-type {\n",
       "        vertical-align: middle;\n",
       "    }\n",
       "\n",
       "    .dataframe tbody tr th {\n",
       "        vertical-align: top;\n",
       "    }\n",
       "\n",
       "    .dataframe thead th {\n",
       "        text-align: right;\n",
       "    }\n",
       "</style>\n",
       "<table border=\"1\" class=\"dataframe\">\n",
       "  <thead>\n",
       "    <tr style=\"text-align: right;\">\n",
       "      <th></th>\n",
       "      <th>name</th>\n",
       "      <th>MDVP:Fo(Hz)</th>\n",
       "      <th>MDVP:Fhi(Hz)</th>\n",
       "      <th>MDVP:Flo(Hz)</th>\n",
       "      <th>MDVP:Jitter(%)</th>\n",
       "      <th>MDVP:Shimmer</th>\n",
       "      <th>RPDE</th>\n",
       "      <th>DFA</th>\n",
       "      <th>status</th>\n",
       "    </tr>\n",
       "  </thead>\n",
       "  <tbody>\n",
       "    <tr>\n",
       "      <th>0</th>\n",
       "      <td>phon_R01_S01</td>\n",
       "      <td>119.992</td>\n",
       "      <td>157.302</td>\n",
       "      <td>74.997</td>\n",
       "      <td>0.00784</td>\n",
       "      <td>0.04374</td>\n",
       "      <td>0.414783</td>\n",
       "      <td>0.815285</td>\n",
       "      <td>0</td>\n",
       "    </tr>\n",
       "    <tr>\n",
       "      <th>1</th>\n",
       "      <td>phon_R01_S02</td>\n",
       "      <td>122.400</td>\n",
       "      <td>148.650</td>\n",
       "      <td>113.819</td>\n",
       "      <td>0.00968</td>\n",
       "      <td>0.06134</td>\n",
       "      <td>0.458304</td>\n",
       "      <td>0.819521</td>\n",
       "      <td>0</td>\n",
       "    </tr>\n",
       "    <tr>\n",
       "      <th>2</th>\n",
       "      <td>phon_R01_S03</td>\n",
       "      <td>116.682</td>\n",
       "      <td>131.111</td>\n",
       "      <td>111.555</td>\n",
       "      <td>0.01050</td>\n",
       "      <td>0.05233</td>\n",
       "      <td>0.429899</td>\n",
       "      <td>0.825288</td>\n",
       "      <td>0</td>\n",
       "    </tr>\n",
       "    <tr>\n",
       "      <th>3</th>\n",
       "      <td>phon_R01_S04</td>\n",
       "      <td>116.676</td>\n",
       "      <td>137.871</td>\n",
       "      <td>111.366</td>\n",
       "      <td>0.00997</td>\n",
       "      <td>0.05492</td>\n",
       "      <td>0.434969</td>\n",
       "      <td>0.819235</td>\n",
       "      <td>0</td>\n",
       "    </tr>\n",
       "    <tr>\n",
       "      <th>4</th>\n",
       "      <td>phon_R01_S05</td>\n",
       "      <td>116.014</td>\n",
       "      <td>141.781</td>\n",
       "      <td>110.655</td>\n",
       "      <td>0.01284</td>\n",
       "      <td>0.06425</td>\n",
       "      <td>0.417356</td>\n",
       "      <td>0.823484</td>\n",
       "      <td>0</td>\n",
       "    </tr>\n",
       "  </tbody>\n",
       "</table>\n",
       "</div>"
      ],
      "text/plain": [
       "           name  MDVP:Fo(Hz)  MDVP:Fhi(Hz)  MDVP:Flo(Hz)  MDVP:Jitter(%)  \\\n",
       "0  phon_R01_S01      119.992       157.302        74.997         0.00784   \n",
       "1  phon_R01_S02      122.400       148.650       113.819         0.00968   \n",
       "2  phon_R01_S03      116.682       131.111       111.555         0.01050   \n",
       "3  phon_R01_S04      116.676       137.871       111.366         0.00997   \n",
       "4  phon_R01_S05      116.014       141.781       110.655         0.01284   \n",
       "\n",
       "   MDVP:Shimmer      RPDE       DFA  status  \n",
       "0       0.04374  0.414783  0.815285       0  \n",
       "1       0.06134  0.458304  0.819521       0  \n",
       "2       0.05233  0.429899  0.825288       0  \n",
       "3       0.05492  0.434969  0.819235       0  \n",
       "4       0.06425  0.417356  0.823484       0  "
      ]
     },
     "execution_count": 3,
     "metadata": {},
     "output_type": "execute_result"
    }
   ],
   "source": [
    "df = pd.read_csv('parkision.csv')\n",
    "df.head()\n",
    "\n"
   ]
  },
  {
   "cell_type": "code",
   "execution_count": 4,
   "id": "25b249b5",
   "metadata": {},
   "outputs": [],
   "source": [
    "# Step 2: Clean the dataset\n",
    "df = df.drop(columns=[\"name\"])  # Drop the 'name' column as it's not needed for modeling\n",
    "\n",
    "# Step 3: Split features and target variable\n",
    "X = df.drop(columns=[\"status\"])  # Features\n",
    "y = df[\"status\"]  # Target variable\n",
    "\n",
    "# Step 4: Standardize the features (important for ML models)\n",
    "scaler = StandardScaler()\n",
    "X_scaled = scaler.fit_transform(X)\n",
    "\n",
    "# Step 5: Split the dataset into training and testing sets\n",
    "X_train, X_test, y_train, y_test = train_test_split(X_scaled, y, test_size=0.2, random_state=42)"
   ]
  },
  {
   "cell_type": "code",
   "execution_count": 5,
   "id": "74a12048",
   "metadata": {},
   "outputs": [
    {
     "data": {
      "text/plain": [
       "(0.5,\n",
       " '              precision    recall  f1-score   support\\n\\n           0       0.50      0.50      0.50         2\\n           1       0.50      0.50      0.50         2\\n\\n    accuracy                           0.50         4\\n   macro avg       0.50      0.50      0.50         4\\nweighted avg       0.50      0.50      0.50         4\\n')"
      ]
     },
     "execution_count": 5,
     "metadata": {},
     "output_type": "execute_result"
    }
   ],
   "source": [
    "# Step 6: Train a Random Forest Classifier\n",
    "from sklearn.ensemble import RandomForestClassifier\n",
    "from sklearn.metrics import classification_report, accuracy_score\n",
    "\n",
    "# Initialize the model\n",
    "rf_model = RandomForestClassifier(n_estimators=100, random_state=42)\n",
    "\n",
    "# Train the model\n",
    "rf_model.fit(X_train, y_train)\n",
    "\n",
    "# Step 7: Evaluate the model\n",
    "y_pred = rf_model.predict(X_test)\n",
    "\n",
    "# Output the accuracy and classification report\n",
    "accuracy = accuracy_score(y_test, y_pred)\n",
    "report = classification_report(y_test, y_pred)\n",
    "\n",
    "accuracy, report\n"
   ]
  },
  {
   "cell_type": "code",
   "execution_count": 16,
   "id": "cada279f",
   "metadata": {},
   "outputs": [
    {
     "name": "stdout",
     "output_type": "stream",
     "text": [
      "Prediction (0 = No Parkinson's, 1 = Parkinson's): 1\n"
     ]
    },
    {
     "name": "stderr",
     "output_type": "stream",
     "text": [
      "c:\\Users\\ADMIN\\AppData\\Local\\Programs\\Python\\Python310\\lib\\site-packages\\sklearn\\utils\\validation.py:2739: UserWarning: X does not have valid feature names, but StandardScaler was fitted with feature names\n",
      "  warnings.warn(\n"
     ]
    }
   ],
   "source": [
    "# Example of new input features (replace with actual values)\n",
    "new_input = [120.000, 145.000, 112.000, 0.00930, 0.04700, 0.438000, 0.822000]\n",
    "\n",
    "# Scale the new input features\n",
    "new_input_scaled = scaler.transform([new_input])\n",
    "\n",
    "# Make a prediction\n",
    "prediction = rf_model.predict(new_input_scaled)\n",
    "\n",
    "# Output the prediction (0: No Parkinson's, 1: Parkinson's)\n",
    "print(\"Prediction (0 = No Parkinson's, 1 = Parkinson's):\", prediction[0])\n"
   ]
  },
  {
   "cell_type": "code",
   "execution_count": 11,
   "id": "e49e147d",
   "metadata": {},
   "outputs": [],
   "source": [
    "def predict_with_gemini(input_sentence, api_key):\n",
    "    # Construct the prompt\n",
    "    prompt_text = prompt.format(input_sentence=input_sentence)\n",
    "    \n",
    "    # Query Gemini API using the API key directly\n",
    "    response = query_gemini_api(prompt_text, api_key)\n",
    "    \n",
    "    # Print the full response to inspect its structure\n",
    "    print(response)  # Debugging line\n",
    "    \n",
    "    # Assuming Gemini returns a 'text' field with the prediction result\n",
    "    prediction = response.get('text', 'No prediction result')\n",
    "    return prediction\n"
   ]
  },
  {
   "cell_type": "code",
   "execution_count": 12,
   "id": "78e01561",
   "metadata": {},
   "outputs": [],
   "source": [
    "def query_gemini_api(prompt, api_key):\n",
    "    url = \"https://api.gemini.com/v1/models/gemini\"  # Example URL (check actual Gemini API endpoint)\n",
    "    headers = {\n",
    "        \"Authorization\": f\"Bearer {api_key}\",\n",
    "        \"Content-Type\": \"application/json\"\n",
    "    }\n",
    "    data = {\n",
    "        \"prompt\": prompt,\n",
    "        \"max_tokens\": 100,\n",
    "        \"temperature\": 0.2\n",
    "    }\n",
    "    response = requests.post(url, json=data, headers=headers)\n",
    "    \n",
    "    # Print status code and response content for debugging\n",
    "    print(\"Status Code:\", response.status_code)  # Check the status code\n",
    "    print(\"Response Content:\", response.json())  # Print the response content\n",
    "    \n",
    "    return response.json()\n"
   ]
  }
 ],
 "metadata": {
  "kernelspec": {
   "display_name": "Python 3",
   "language": "python",
   "name": "python3"
  },
  "language_info": {
   "codemirror_mode": {
    "name": "ipython",
    "version": 3
   },
   "file_extension": ".py",
   "mimetype": "text/x-python",
   "name": "python",
   "nbconvert_exporter": "python",
   "pygments_lexer": "ipython3",
   "version": "3.10.0"
  }
 },
 "nbformat": 4,
 "nbformat_minor": 5
}
